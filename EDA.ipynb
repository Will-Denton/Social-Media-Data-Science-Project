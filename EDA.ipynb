{
 "cells": [
  {
   "cell_type": "code",
   "execution_count": 94,
   "metadata": {},
   "outputs": [],
   "source": [
    "import pandas as pd\n",
    "import numpy as np\n",
    "import matplotlib.pyplot as plt\n",
    "import seaborn as sns\n",
    "import textwrap"
   ]
  },
  {
   "cell_type": "code",
   "execution_count": 66,
   "metadata": {},
   "outputs": [],
   "source": [
    "sensing = pd.read_csv('data/Kaggle-College-Experiences/Sensing/sensing.csv')"
   ]
  },
  {
   "cell_type": "code",
   "execution_count": 67,
   "metadata": {},
   "outputs": [],
   "source": [
    "sensing_sample = sensing.sample(n=10000)\n",
    "display(sensing_sample.head())"
   ]
  },
  {
   "cell_type": "code",
   "execution_count": 68,
   "metadata": {},
   "outputs": [],
   "source": [
    "sensing_sample['avg_phone_usage'] = sensing_sample['unlock_duration_ep_1'] + sensing_sample['unlock_duration_ep_2'] + sensing_sample['unlock_duration_ep_3']\n",
    "sensing_ema = ..."
   ]
  },
  {
   "cell_type": "code",
   "execution_count": 71,
   "metadata": {},
   "outputs": [],
   "source": [
    "gad7_columns = [\"EndDate\"] + [col for col in mental_health_survey.columns if col.startswith(\"gad7_\") and col[5:].isdigit()]\n",
    "gad7 = mental_health_survey[gad7_columns].copy()\n",
    "frequency_mapping = {\n",
    "    'Not at all': 0,\n",
    "    'Several days': 1,\n",
    "    'More than half of the days': 2,\n",
    "    'Nearly every day': 3\n",
    "}\n",
    "\n",
    "for i in range(1, 8):\n",
    "    column_name = f\"gad7_{i}\"\n",
    "    encoded_column_name = f\"{column_name}_encoded\"\n",
    "    gad7.loc[:, encoded_column_name] = gad7[column_name].map(frequency_mapping)\n",
    "\n",
    "gad7.loc[:, \"gad7_total\"] = gad7[[f\"gad7_{i}_encoded\" for i in range(1, 8)]].sum(axis = 1)\n",
    "mental_health_survey[\"gad7_total\"]  = gad7[\"gad7_total\"]\n"
   ]
  },
  {
   "cell_type": "code",
   "execution_count": 307,
   "metadata": {},
   "outputs": [],
   "source": [
    "pe"
   ]
  },
  {
   "cell_type": "code",
   "execution_count": 161,
   "metadata": {},
   "outputs": [],
   "source": [
    "pew_2020 = pd.read_spss(\"data/NPORS-2024-Data-Release/NPORS 2020.sav\")\n",
    "pew_2021 = pd.read_spss(\"data/NPORS-2024-Data-Release/NPORS_2021_for_public_release.sav\")\n",
    "pew_2022 = pd.read_spss(\"data/NPORS-2024-Data-Release/NPORS_2022_for_public_release.sav\")\n",
    "pew_2023 = pd.read_spss(\"data/NPORS-2024-Data-Release/NPORS_2023_for_public_release.sav\")\n",
    "pew_2024 = pd.read_spss(\"data/NPORS-2024-Data-Release/NPORS_2024_for_public_release.sav\")"
   ]
  },
  {
   "cell_type": "code",
   "execution_count": null,
   "metadata": {},
   "outputs": [],
   "source": [
    "pew_2020_sm = pew_2020[[\"SMUSE_a_AP20\", \"SMUSE_b_AP20\", \"SMUSE_c_AP20\", \"SMUSE_d_AP20\", \"SMUSE_e_AP20\", \"SMUSE_f_AP20\", \"SMUSE_g_AP20\", \"SMUSE_h_AP20\"]].copy()\n",
    "pew_2020_sm.columns = [\"Facebook\", \"YouTube\", \"Twitter\", \"Instagram\", \"Snapchat\", \"WhatsApp\", \"LinkedIn\", \"Pinterest\"]\n",
    "pew_2021_sm = pew_2021[[\"SMUSE_a_AP21\", \"SMUSE_b_AP21\", \"SMUSE_c_AP21\", \"SMUSE_d_AP21\", \"SMUSE_e_AP21\", \"SMUSE_f_AP21\", \"SMUSE_g_AP21\", \"SMUSE_h_AP21\"]].copy()\n",
    "pew_2021_sm.columns = [\"Facebook\", \"YouTube\", \"Twitter\", \"Instagram\", \"Snapchat\", \"WhatsApp\", \"LinkedIn\", \"Pinterest\"]\n",
    "pew_2022_sm = pew_2022[[\"SMUSE_a\", \"SMUSE_b\", \"SMUSE_c\", \"SMUSE_d\", \"SMUSE_e\", \"SMUSE_f\", \"SMUSE_g\", \"SMUSE_h\", \"SMUSE_i\"]].copy()\n",
    "pew_2022_sm.columns = [\"Facebook\", \"YouTube\", \"Twitter\", \"Instagram\", \"Snapchat\", \"WhatsApp\", \"LinkedIn\", \"Pinterest\", \"TikTok\"]\n",
    "pew_2023_sm = pew_2023[[\"SMUSE_a\", \"SMUSE_b\", \"SMUSE_c\", \"SMUSE_d\", \"SMUSE_e\", \"SMUSE_f\", \"SMUSE_g\", \"SMUSE_h\", \"SMUSE_i\", \"SMUSE_j\", \"SMUSE_k\"]].copy()\n",
    "pew_2023_sm.columns = [\"Facebook\", \"YouTube\", \"Twitter\", \"Instagram\", \"Snapchat\", \"WhatsApp\", \"LinkedIn\", \"Pinterest\", \"TikTok\", \"BeReal\", \"Reddit\"]\n",
    "\n",
    "\n",
    "\n",
    "datasets = [pew_2020_sm, pew_2021_sm, pew_2022_sm, pew_2023_sm]\n",
    "social_media_list = [\"Facebook\", \"YouTube\", \"Twitter\", \"Instagram\", \"Snapchat\", \"WhatsApp\", \"LinkedIn\", \"Pinterest\", \"TikTok\", \"BeReal\", \"Reddit\"]\n",
    "\n",
    "for sm in social_media_list:\n",
    "    start_year = 2020\n",
    "    year = start_year\n",
    "    for dataset in datasets:\n",
    "        if sm in dataset.columns:\n",
    "            sm_counts = dataset.loc[:,sm].value_counts(normalize=True)\n",
    "            proportion = sm_counts.get('Yes, use this', 0)  \n",
    "            dataset.loc[:, sm + \" Proportion \"] = proportion\n",
    "            #dataset.loc[:, \"Year\"] = year\n",
    "\n",
    "        year += 1\n",
    "\n",
    "pew_2020_sm = pew_2020_sm.drop(columns = social_media_list, errors = 'ignore').loc[1]\n",
    "pew_2021_sm = pew_2021_sm.drop(columns = social_media_list, errors = 'ignore').loc[1]\n",
    "pew_2022_sm = pew_2022_sm.drop(columns = social_media_list, errors = 'ignore').loc[1]\n",
    "pew_2023_sm = pew_2023_sm.drop(columns = social_media_list, errors = 'ignore').loc[1]\n",
    "            \n",
    "pew_data = pd.DataFrame({\"2020\": pew_2020_sm, \"2021\": pew_2021_sm, \"2022\": pew_2022_sm, \"2023\": pew_2023_sm})\n",
    "#display(pew_data)\n",
    "\n",
    "pew_data = pew_data.reset_index()\n",
    "\n",
    "pew_data.columns = ['Platform', \"2020\", \"2021\", \"2022\", \"2023\"]\n",
    "\n",
    "pew_data_long = pd.melt(pew_data, id_vars='Platform', var_name='Year', value_name='Proportion')\n",
    "#display(pew_data_long)\n",
    "\n",
    "plt.figure(figsize=(10, 4.5))\n",
    "sns.lineplot(data=pew_data_long, x='Year', y='Proportion', hue='Platform', marker='o')\n",
    "plt.legend(loc='upper left', bbox_to_anchor=(1, 1))\n"
   ]
  },
  {
   "cell_type": "code",
   "execution_count": null,
   "metadata": {},
   "outputs": [],
   "source": [
    "\n",
    "\n",
    "smmh.describe()"
   ]
  },
  {
   "cell_type": "code",
   "execution_count": 321,
   "metadata": {},
   "outputs": [],
   "source": [
    "from sklearn.model_selection import train_test_split\n",
    "from sklearn.linear_model import LinearRegression\n",
    "from sklearn.metrics import mean_squared_error, r2_score\n",
    "from sklearn.preprocessing import OrdinalEncoder\n",
    "import statsmodels.api as sm\n",
    "\n",
    "def map_gender(value):\n",
    "    if value == \"Male\":\n",
    "        return \"Male\"\n",
    "    elif value == \"Female\":\n",
    "        return \"Female\"\n",
    "    else:\n",
    "        return \"Other\"\n",
    "\n",
    "preds = [f\"Q{i}\" for i in [1, 2, 3, 4, 8]]\n",
    "time_categories = [\n",
    "    \"Less than an Hour\", \n",
    "    \"Between 1 and 2 hours\", \n",
    "    \"Between 2 and 3 hours\", \n",
    "    \"Between 3 and 4 hours\", \n",
    "    \"Between 4 and 5 hours\", \n",
    "    \"More than 5 hours\"\n",
    "]\n",
    "\n",
    "smmh = pd.read_csv(\"data/smmh.csv\")\n",
    "questions = smmh.columns\n",
    "smmh.columns = [\"time\"] + [f\"Q{i}\" for i in range(1, 21)]\n",
    "\n",
    "anx_questions = [f\"Q{i}\" for i in [13, 15, 18, 19, 20]]\n",
    "smmh[\"anxiety_score\"] = smmh[anx_questions].mean(axis = 1)\n",
    "smmh[\"Q2\"] = smmh[\"Q2\"].apply(map_gender)\n",
    "smmh['Q8'] = pd.Categorical(\n",
    "    smmh['Q8'], \n",
    "    categories=time_categories, \n",
    "    ordered=True\n",
    ")\n",
    "ordinal_encoder = OrdinalEncoder(categories=[time_categories])\n",
    "smmh['Q8'] = ordinal_encoder.fit_transform(smmh[['Q8']])\n",
    "\n",
    "X = smmh[preds]\n",
    "X = pd.get_dummies(X, columns = [f\"Q{i}\" for i in [2, 3, 4, 8]], drop_first = True)\n",
    "X = X.apply(lambda col: col.astype(int) if col.dtype == bool else col)\n",
    "X = sm.add_constant(X)\n",
    "y = smmh[\"anxiety_score\"]\n",
    "\n",
    "X_train, X_test, y_train, y_test = train_test_split(X, y, test_size=0.2)\n",
    "\n",
    "model = sm.OLS(y_train, X_train).fit()"
   ]
  },
  {
   "cell_type": "code",
   "execution_count": 366,
   "metadata": {},
   "outputs": [],
   "source": [
    "from prettytable import PrettyTable\n",
    "\n",
    "summ = pd.DataFrame(model.summary().tables[1]).iloc[:,[0, 1, 4]]\n",
    "fig, ax = plt.subplots(figsize = (5, 4))\n",
    "\n",
    "tbl = pd.plotting.table(ax, summ, loc = \"center\")\n",
    "tbl.auto_set_font_size(False)\n",
    "tbl.set_fontsize(14)\n",
    "tbl.auto_set_column_width(col=list(range(len(summ.columns))))\n",
    "tbl.scale(1.5, 1.5)  \n",
    "tbl.auto_set_column_width([0, 1, 2])\n",
    "tbl.get_celld()[(0, 0)].set_text_props(text='')\n",
    "tbl.get_celld()[(0, 1)].set_text_props(text='') \n",
    "\n",
    "ax.grid(False)\n",
    "ax.set_xticks([])\n",
    "ax.set_yticks([]) \n",
    "ax.spines['top'].set_visible(False) \n",
    "ax.spines['right'].set_visible(False)\n",
    "ax.spines['left'].set_visible(False)\n",
    "ax.spines['bottom'].set_visible(False)\n",
    "\n",
    "plt.show()"
   ]
  },
  {
   "cell_type": "code",
   "execution_count": 269,
   "metadata": {},
   "outputs": [],
   "source": [
    "questions"
   ]
  },
  {
   "cell_type": "code",
   "execution_count": null,
   "metadata": {},
   "outputs": [],
   "source": []
  }
 ],
 "metadata": {
  "kernelspec": {
   "display_name": "Python 3",
   "language": "python",
   "name": "python3"
  },
  "language_info": {
   "codemirror_mode": {
    "name": "ipython",
    "version": 3
   },
   "file_extension": ".py",
   "mimetype": "text/x-python",
   "name": "python",
   "nbconvert_exporter": "python",
   "pygments_lexer": "ipython3",
   "version": "3.12.7"
  }
 },
 "nbformat": 4,
 "nbformat_minor": 2
}
