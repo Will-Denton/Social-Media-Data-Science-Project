{
 "cells": [
  {
   "cell_type": "code",
   "execution_count": null,
   "metadata": {
    "vscode": {
     "languageId": "plaintext"
    }
   },
   "outputs": [],
   "source": [
    "fig, ax = plt.subplots()\n",
    "plt.figure(figsize=(10, 4.5))\n",
    "ax = sns.lineplot(data=pew_data_long, x='Year', y='Proportion', hue='Platform', marker='o')\n",
    "plt.title(\"Proportion of respondents that use each platform\")\n",
    "ax.annotate('Figure 1: Line Graph of Social Media Platform Usage Proportions', xy = (0, -.2), xycoords='axes fraction')\n",
    "plt.legend(loc='upper left', bbox_to_anchor=(1, 1))\n",
    "plt.show()"
   ]
  },
  {
   "cell_type": "code",
   "execution_count": null,
   "metadata": {
    "vscode": {
     "languageId": "plaintext"
    }
   },
   "outputs": [],
   "source": [
    "y_pred = model.predict(X_train)\n",
    "resids = y_train - y_pred\n",
    "\n",
    "plt.figure(figsize = (8,6))\n",
    "ax = sns.histplot(resids)\n",
    "plt.axvline(0, color = \"black\", linestyle = \"--\")\n",
    "plt.xlabel(\"Residuals\")\n",
    "plt.ylabel(\"Count\")\n",
    "plt.title(\"Linear regression model residual distribution\")\n",
    "ax.annotate('Figure 3: Histogram of Residuals', xy = (0, -.15), xycoords='axes fraction')\n",
    "plt.show()"
   ]
  },
  {
   "cell_type": "code",
   "execution_count": null,
   "metadata": {
    "vscode": {
     "languageId": "plaintext"
    }
   },
   "outputs": [],
   "source": [
    "ages = smmh[\"Q1\"]\n",
    "ax = sns.histplot(ages)\n",
    "plt.title(\"Respondent age distribution\")\n",
    "plt.xlabel(\"Age\")\n",
    "ax.annotate('Figure 0: Histogram of Age Distribution', xy = (0, -.15), xycoords='axes fraction')\n",
    "plt.show()"
   ]
  },
  {
   "cell_type": "code",
   "execution_count": null,
   "metadata": {
    "vscode": {
     "languageId": "plaintext"
    }
   },
   "outputs": [],
   "source": [
    "\n",
    "proportions = pew_2023.groupby(\"AGECAT\").apply(lambda x: pd.Series({\n",
    "    \"Facebook\": (x[\"SMUSE_a\"] == \"Yes, use this\").mean(),\n",
    "    \"YouTube\": (x[\"SMUSE_b\"] == \"Yes, use this\").mean(),\n",
    "    \"Twitter\": (x[\"SMUSE_c\"] == \"Yes, use this\").mean(),\n",
    "    \"Instagram\": (x[\"SMUSE_d\"] == \"Yes, use this\").mean(),\n",
    "    \"Snapchat\": (x[\"SMUSE_e\"] == \"Yes, use this\").mean(),\n",
    "    \"WhatsApp\": (x[\"SMUSE_f\"] == \"Yes, use this\").mean(),\n",
    "    \"LinkedIn\": (x[\"SMUSE_g\"] == \"Yes, use this\").mean(),\n",
    "    \"Pinterest\": (x[\"SMUSE_h\"] == \"Yes, use this\").mean(),\n",
    "    \"TikTok\": (x[\"SMUSE_i\"] == \"Yes, use this\").mean(),\n",
    "    \"BeReal\": (x[\"SMUSE_j\"] == \"Yes, use this\").mean(),\n",
    "    \"Reddit\": (x[\"SMUSE_k\"] == \"Yes, use this\").mean(),\n",
    "})\n",
    ").reset_index()\n",
    "                                           \n",
    "display(proportions)"
   ]
  }
 ],
 "metadata": {
  "language_info": {
   "name": "python"
  }
 },
 "nbformat": 4,
 "nbformat_minor": 2
}
