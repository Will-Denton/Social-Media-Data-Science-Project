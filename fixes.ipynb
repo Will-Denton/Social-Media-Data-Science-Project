{
 "cells": [
  {
   "cell_type": "code",
   "execution_count": null,
   "metadata": {
    "vscode": {
     "languageId": "plaintext"
    }
   },
   "outputs": [],
   "source": [
    "fig, ax = plt.subplots()\n",
    "plt.figure(figsize=(10, 4.5))\n",
    "ax = sns.lineplot(data=pew_data_long, x='Year', y='Proportion', hue='Platform', marker='o')\n",
    "plt.title(\"Proportion of respondents that use each platform\")\n",
    "ax.annotate('Figure 1: Line Graph of Social Media Platform Usage Proportions', xy = (0, -.2), xycoords='axes fraction')\n",
    "plt.legend(loc='upper left', bbox_to_anchor=(1, 1))\n",
    "plt.show()"
   ]
  },
  {
   "cell_type": "code",
   "execution_count": null,
   "metadata": {
    "vscode": {
     "languageId": "plaintext"
    }
   },
   "outputs": [],
   "source": [
    "y_pred = model.predict(X_train)\n",
    "resids = y_train - y_pred\n",
    "\n",
    "plt.figure(figsize = (8,6))\n",
    "ax = sns.histplot(resids)\n",
    "plt.axvline(0, color = \"black\", linestyle = \"--\")\n",
    "plt.xlabel(\"Residuals\")\n",
    "plt.ylabel(\"Count\")\n",
    "plt.title(\"Linear regression model residual distribution\")\n",
    "ax.annotate('Figure 3: Histogram of Residuals', xy = (0, -.15), xycoords='axes fraction')\n",
    "plt.show()"
   ]
  },
  {
   "cell_type": "code",
   "execution_count": null,
   "metadata": {
    "vscode": {
     "languageId": "plaintext"
    }
   },
   "outputs": [],
   "source": [
    "ages = smmh[\"Q1\"]\n",
    "ax = sns.histplot(ages)\n",
    "plt.title(\"Respondent age distribution\")\n",
    "plt.xlabel(\"Age\")\n",
    "ax.annotate('Figure 0: Histogram of Age Distribution', xy = (0, -.15), xycoords='axes fraction')\n",
    "plt.show()"
   ]
  }
 ],
 "metadata": {
  "language_info": {
   "name": "python"
  }
 },
 "nbformat": 4,
 "nbformat_minor": 2
}
